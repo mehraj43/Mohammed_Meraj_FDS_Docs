{
  "nbformat": 4,
  "nbformat_minor": 0,
  "metadata": {
    "kernelspec": {
      "display_name": "Python 3",
      "language": "python",
      "name": "python3"
    },
    "language_info": {
      "codemirror_mode": {
        "name": "ipython",
        "version": 3
      },
      "file_extension": ".py",
      "mimetype": "text/x-python",
      "name": "python",
      "nbconvert_exporter": "python",
      "pygments_lexer": "ipython3",
      "version": "3.8.3"
    },
    "colab": {
      "provenance": [],
      "collapsed_sections": [
        "u0D3t7JnYVLz"
      ],
      "toc_visible": true
    }
  },
  "cells": [
    {
      "cell_type": "markdown",
      "metadata": {
        "id": "view-in-github"
      },
      "source": [
        "<a href=\"https://colab.research.google.com/github/Sadiksha08/FDS-Lab-Work/blob/main/FDS_LAB_Practical_9_Significance_and_Hypothesis_Testing.ipynb\" target=\"_parent\"><img src=\"https://colab.research.google.com/assets/colab-badge.svg\" alt=\"Open In Colab\"/></a>"
      ]
    },
    {
      "cell_type": "markdown",
      "metadata": {
        "id": "W-1HIQyiYbQy"
      },
      "source": [
        "# **Significance and Hypothesis Testing**"
      ]
    },
    {
      "cell_type": "code",
      "source": [
        "%cd\n",
        "from google.colab import drive\n",
        "drive.mount('/content/gdrive')"
      ],
      "metadata": {
        "colab": {
          "base_uri": "https://localhost:8080/"
        },
        "id": "GjqEuEQh7fho",
        "outputId": "e5b1242b-0c5a-4a5e-88c6-d8e4b30f1e1e"
      },
      "execution_count": null,
      "outputs": [
        {
          "output_type": "stream",
          "name": "stdout",
          "text": [
            "/root\n",
            "Drive already mounted at /content/gdrive; to attempt to forcibly remount, call drive.mount(\"/content/gdrive\", force_remount=True).\n"
          ]
        }
      ]
    },
    {
      "cell_type": "code",
      "metadata": {
        "id": "fwcP4o_GYVLY"
      },
      "source": [
        "import pandas as pd\n",
        "import numpy as np\n",
        "import matplotlib.pyplot as plt\n",
        "import seaborn as sns\n",
        "import scipy.stats as stats\n",
        "from scipy.stats import ttest_1samp\n",
        "from statsmodels.stats.power import tt_ind_solve_power"
      ],
      "execution_count": null,
      "outputs": []
    },
    {
      "cell_type": "code",
      "metadata": {
        "id": "RtUH4ttRYVLj",
        "outputId": "63fdb8fd-162a-4f96-bc58-043d1e9da1ed",
        "colab": {
          "base_uri": "https://localhost:8080/",
          "height": 363
        }
      },
      "source": [
        "df=pd.read_excel('/content/gdrive/MyDrive/FDS/result.xlsx')\n",
        "df"
      ],
      "execution_count": null,
      "outputs": [
        {
          "output_type": "execute_result",
          "data": {
            "text/plain": [
              "   Roll no.     Name  Subj1  Subj2  subj3  total result\n",
              "0       101    Manoj     45     45     45    135      P\n",
              "1       102   Manish     35     45     42    122      P\n",
              "2       103  shubham     29     26     30     85      P\n",
              "3       104   shivam     38     35     29    102      P\n",
              "4       105   aakash     41     40     34    115      P\n",
              "5       106   ritwik     46     62     41    149      P\n",
              "6       107  saurabh     46     62     41    149      P\n",
              "7       108   ritwik     46     62     41    149      P\n",
              "8       109  saurabh     46     62     41    149      P\n",
              "9       110   ritwik     46     62     41    149      P"
            ],
            "text/html": [
              "\n",
              "  <div id=\"df-6c58dcd5-3fe1-4c24-886f-4739dac04f5e\">\n",
              "    <div class=\"colab-df-container\">\n",
              "      <div>\n",
              "<style scoped>\n",
              "    .dataframe tbody tr th:only-of-type {\n",
              "        vertical-align: middle;\n",
              "    }\n",
              "\n",
              "    .dataframe tbody tr th {\n",
              "        vertical-align: top;\n",
              "    }\n",
              "\n",
              "    .dataframe thead th {\n",
              "        text-align: right;\n",
              "    }\n",
              "</style>\n",
              "<table border=\"1\" class=\"dataframe\">\n",
              "  <thead>\n",
              "    <tr style=\"text-align: right;\">\n",
              "      <th></th>\n",
              "      <th>Roll no.</th>\n",
              "      <th>Name</th>\n",
              "      <th>Subj1</th>\n",
              "      <th>Subj2</th>\n",
              "      <th>subj3</th>\n",
              "      <th>total</th>\n",
              "      <th>result</th>\n",
              "    </tr>\n",
              "  </thead>\n",
              "  <tbody>\n",
              "    <tr>\n",
              "      <th>0</th>\n",
              "      <td>101</td>\n",
              "      <td>Manoj</td>\n",
              "      <td>45</td>\n",
              "      <td>45</td>\n",
              "      <td>45</td>\n",
              "      <td>135</td>\n",
              "      <td>P</td>\n",
              "    </tr>\n",
              "    <tr>\n",
              "      <th>1</th>\n",
              "      <td>102</td>\n",
              "      <td>Manish</td>\n",
              "      <td>35</td>\n",
              "      <td>45</td>\n",
              "      <td>42</td>\n",
              "      <td>122</td>\n",
              "      <td>P</td>\n",
              "    </tr>\n",
              "    <tr>\n",
              "      <th>2</th>\n",
              "      <td>103</td>\n",
              "      <td>shubham</td>\n",
              "      <td>29</td>\n",
              "      <td>26</td>\n",
              "      <td>30</td>\n",
              "      <td>85</td>\n",
              "      <td>P</td>\n",
              "    </tr>\n",
              "    <tr>\n",
              "      <th>3</th>\n",
              "      <td>104</td>\n",
              "      <td>shivam</td>\n",
              "      <td>38</td>\n",
              "      <td>35</td>\n",
              "      <td>29</td>\n",
              "      <td>102</td>\n",
              "      <td>P</td>\n",
              "    </tr>\n",
              "    <tr>\n",
              "      <th>4</th>\n",
              "      <td>105</td>\n",
              "      <td>aakash</td>\n",
              "      <td>41</td>\n",
              "      <td>40</td>\n",
              "      <td>34</td>\n",
              "      <td>115</td>\n",
              "      <td>P</td>\n",
              "    </tr>\n",
              "    <tr>\n",
              "      <th>5</th>\n",
              "      <td>106</td>\n",
              "      <td>ritwik</td>\n",
              "      <td>46</td>\n",
              "      <td>62</td>\n",
              "      <td>41</td>\n",
              "      <td>149</td>\n",
              "      <td>P</td>\n",
              "    </tr>\n",
              "    <tr>\n",
              "      <th>6</th>\n",
              "      <td>107</td>\n",
              "      <td>saurabh</td>\n",
              "      <td>46</td>\n",
              "      <td>62</td>\n",
              "      <td>41</td>\n",
              "      <td>149</td>\n",
              "      <td>P</td>\n",
              "    </tr>\n",
              "    <tr>\n",
              "      <th>7</th>\n",
              "      <td>108</td>\n",
              "      <td>ritwik</td>\n",
              "      <td>46</td>\n",
              "      <td>62</td>\n",
              "      <td>41</td>\n",
              "      <td>149</td>\n",
              "      <td>P</td>\n",
              "    </tr>\n",
              "    <tr>\n",
              "      <th>8</th>\n",
              "      <td>109</td>\n",
              "      <td>saurabh</td>\n",
              "      <td>46</td>\n",
              "      <td>62</td>\n",
              "      <td>41</td>\n",
              "      <td>149</td>\n",
              "      <td>P</td>\n",
              "    </tr>\n",
              "    <tr>\n",
              "      <th>9</th>\n",
              "      <td>110</td>\n",
              "      <td>ritwik</td>\n",
              "      <td>46</td>\n",
              "      <td>62</td>\n",
              "      <td>41</td>\n",
              "      <td>149</td>\n",
              "      <td>P</td>\n",
              "    </tr>\n",
              "  </tbody>\n",
              "</table>\n",
              "</div>\n",
              "      <button class=\"colab-df-convert\" onclick=\"convertToInteractive('df-6c58dcd5-3fe1-4c24-886f-4739dac04f5e')\"\n",
              "              title=\"Convert this dataframe to an interactive table.\"\n",
              "              style=\"display:none;\">\n",
              "        \n",
              "  <svg xmlns=\"http://www.w3.org/2000/svg\" height=\"24px\"viewBox=\"0 0 24 24\"\n",
              "       width=\"24px\">\n",
              "    <path d=\"M0 0h24v24H0V0z\" fill=\"none\"/>\n",
              "    <path d=\"M18.56 5.44l.94 2.06.94-2.06 2.06-.94-2.06-.94-.94-2.06-.94 2.06-2.06.94zm-11 1L8.5 8.5l.94-2.06 2.06-.94-2.06-.94L8.5 2.5l-.94 2.06-2.06.94zm10 10l.94 2.06.94-2.06 2.06-.94-2.06-.94-.94-2.06-.94 2.06-2.06.94z\"/><path d=\"M17.41 7.96l-1.37-1.37c-.4-.4-.92-.59-1.43-.59-.52 0-1.04.2-1.43.59L10.3 9.45l-7.72 7.72c-.78.78-.78 2.05 0 2.83L4 21.41c.39.39.9.59 1.41.59.51 0 1.02-.2 1.41-.59l7.78-7.78 2.81-2.81c.8-.78.8-2.07 0-2.86zM5.41 20L4 18.59l7.72-7.72 1.47 1.35L5.41 20z\"/>\n",
              "  </svg>\n",
              "      </button>\n",
              "      \n",
              "  <style>\n",
              "    .colab-df-container {\n",
              "      display:flex;\n",
              "      flex-wrap:wrap;\n",
              "      gap: 12px;\n",
              "    }\n",
              "\n",
              "    .colab-df-convert {\n",
              "      background-color: #E8F0FE;\n",
              "      border: none;\n",
              "      border-radius: 50%;\n",
              "      cursor: pointer;\n",
              "      display: none;\n",
              "      fill: #1967D2;\n",
              "      height: 32px;\n",
              "      padding: 0 0 0 0;\n",
              "      width: 32px;\n",
              "    }\n",
              "\n",
              "    .colab-df-convert:hover {\n",
              "      background-color: #E2EBFA;\n",
              "      box-shadow: 0px 1px 2px rgba(60, 64, 67, 0.3), 0px 1px 3px 1px rgba(60, 64, 67, 0.15);\n",
              "      fill: #174EA6;\n",
              "    }\n",
              "\n",
              "    [theme=dark] .colab-df-convert {\n",
              "      background-color: #3B4455;\n",
              "      fill: #D2E3FC;\n",
              "    }\n",
              "\n",
              "    [theme=dark] .colab-df-convert:hover {\n",
              "      background-color: #434B5C;\n",
              "      box-shadow: 0px 1px 3px 1px rgba(0, 0, 0, 0.15);\n",
              "      filter: drop-shadow(0px 1px 2px rgba(0, 0, 0, 0.3));\n",
              "      fill: #FFFFFF;\n",
              "    }\n",
              "  </style>\n",
              "\n",
              "      <script>\n",
              "        const buttonEl =\n",
              "          document.querySelector('#df-6c58dcd5-3fe1-4c24-886f-4739dac04f5e button.colab-df-convert');\n",
              "        buttonEl.style.display =\n",
              "          google.colab.kernel.accessAllowed ? 'block' : 'none';\n",
              "\n",
              "        async function convertToInteractive(key) {\n",
              "          const element = document.querySelector('#df-6c58dcd5-3fe1-4c24-886f-4739dac04f5e');\n",
              "          const dataTable =\n",
              "            await google.colab.kernel.invokeFunction('convertToInteractive',\n",
              "                                                     [key], {});\n",
              "          if (!dataTable) return;\n",
              "\n",
              "          const docLinkHtml = 'Like what you see? Visit the ' +\n",
              "            '<a target=\"_blank\" href=https://colab.research.google.com/notebooks/data_table.ipynb>data table notebook</a>'\n",
              "            + ' to learn more about interactive tables.';\n",
              "          element.innerHTML = '';\n",
              "          dataTable['output_type'] = 'display_data';\n",
              "          await google.colab.output.renderOutput(dataTable, element);\n",
              "          const docLink = document.createElement('div');\n",
              "          docLink.innerHTML = docLinkHtml;\n",
              "          element.appendChild(docLink);\n",
              "        }\n",
              "      </script>\n",
              "    </div>\n",
              "  </div>\n",
              "  "
            ]
          },
          "metadata": {},
          "execution_count": 4
        }
      ]
    },
    {
      "cell_type": "code",
      "metadata": {
        "id": "ldAe7HWGYVLm",
        "outputId": "eb6e1edc-8a01-403c-d273-e778f7666dac",
        "colab": {
          "base_uri": "https://localhost:8080/",
          "height": 300
        }
      },
      "source": [
        "df.describe()"
      ],
      "execution_count": null,
      "outputs": [
        {
          "output_type": "execute_result",
          "data": {
            "text/plain": [
              "        Roll no.      Subj1      Subj2     subj3       total\n",
              "count   10.00000  10.000000  10.000000  10.00000   10.000000\n",
              "mean   105.50000  41.800000  50.100000  38.50000  130.400000\n",
              "std      3.02765   5.996295  13.625548   5.46199   23.396106\n",
              "min    101.00000  29.000000  26.000000  29.00000   85.000000\n",
              "25%    103.25000  38.750000  41.250000  35.75000  116.750000\n",
              "50%    105.50000  45.500000  53.500000  41.00000  142.000000\n",
              "75%    107.75000  46.000000  62.000000  41.00000  149.000000\n",
              "max    110.00000  46.000000  62.000000  45.00000  149.000000"
            ],
            "text/html": [
              "\n",
              "  <div id=\"df-7bb25ed4-54ee-47b2-a7eb-79af2691fe76\">\n",
              "    <div class=\"colab-df-container\">\n",
              "      <div>\n",
              "<style scoped>\n",
              "    .dataframe tbody tr th:only-of-type {\n",
              "        vertical-align: middle;\n",
              "    }\n",
              "\n",
              "    .dataframe tbody tr th {\n",
              "        vertical-align: top;\n",
              "    }\n",
              "\n",
              "    .dataframe thead th {\n",
              "        text-align: right;\n",
              "    }\n",
              "</style>\n",
              "<table border=\"1\" class=\"dataframe\">\n",
              "  <thead>\n",
              "    <tr style=\"text-align: right;\">\n",
              "      <th></th>\n",
              "      <th>Roll no.</th>\n",
              "      <th>Subj1</th>\n",
              "      <th>Subj2</th>\n",
              "      <th>subj3</th>\n",
              "      <th>total</th>\n",
              "    </tr>\n",
              "  </thead>\n",
              "  <tbody>\n",
              "    <tr>\n",
              "      <th>count</th>\n",
              "      <td>10.00000</td>\n",
              "      <td>10.000000</td>\n",
              "      <td>10.000000</td>\n",
              "      <td>10.00000</td>\n",
              "      <td>10.000000</td>\n",
              "    </tr>\n",
              "    <tr>\n",
              "      <th>mean</th>\n",
              "      <td>105.50000</td>\n",
              "      <td>41.800000</td>\n",
              "      <td>50.100000</td>\n",
              "      <td>38.50000</td>\n",
              "      <td>130.400000</td>\n",
              "    </tr>\n",
              "    <tr>\n",
              "      <th>std</th>\n",
              "      <td>3.02765</td>\n",
              "      <td>5.996295</td>\n",
              "      <td>13.625548</td>\n",
              "      <td>5.46199</td>\n",
              "      <td>23.396106</td>\n",
              "    </tr>\n",
              "    <tr>\n",
              "      <th>min</th>\n",
              "      <td>101.00000</td>\n",
              "      <td>29.000000</td>\n",
              "      <td>26.000000</td>\n",
              "      <td>29.00000</td>\n",
              "      <td>85.000000</td>\n",
              "    </tr>\n",
              "    <tr>\n",
              "      <th>25%</th>\n",
              "      <td>103.25000</td>\n",
              "      <td>38.750000</td>\n",
              "      <td>41.250000</td>\n",
              "      <td>35.75000</td>\n",
              "      <td>116.750000</td>\n",
              "    </tr>\n",
              "    <tr>\n",
              "      <th>50%</th>\n",
              "      <td>105.50000</td>\n",
              "      <td>45.500000</td>\n",
              "      <td>53.500000</td>\n",
              "      <td>41.00000</td>\n",
              "      <td>142.000000</td>\n",
              "    </tr>\n",
              "    <tr>\n",
              "      <th>75%</th>\n",
              "      <td>107.75000</td>\n",
              "      <td>46.000000</td>\n",
              "      <td>62.000000</td>\n",
              "      <td>41.00000</td>\n",
              "      <td>149.000000</td>\n",
              "    </tr>\n",
              "    <tr>\n",
              "      <th>max</th>\n",
              "      <td>110.00000</td>\n",
              "      <td>46.000000</td>\n",
              "      <td>62.000000</td>\n",
              "      <td>45.00000</td>\n",
              "      <td>149.000000</td>\n",
              "    </tr>\n",
              "  </tbody>\n",
              "</table>\n",
              "</div>\n",
              "      <button class=\"colab-df-convert\" onclick=\"convertToInteractive('df-7bb25ed4-54ee-47b2-a7eb-79af2691fe76')\"\n",
              "              title=\"Convert this dataframe to an interactive table.\"\n",
              "              style=\"display:none;\">\n",
              "        \n",
              "  <svg xmlns=\"http://www.w3.org/2000/svg\" height=\"24px\"viewBox=\"0 0 24 24\"\n",
              "       width=\"24px\">\n",
              "    <path d=\"M0 0h24v24H0V0z\" fill=\"none\"/>\n",
              "    <path d=\"M18.56 5.44l.94 2.06.94-2.06 2.06-.94-2.06-.94-.94-2.06-.94 2.06-2.06.94zm-11 1L8.5 8.5l.94-2.06 2.06-.94-2.06-.94L8.5 2.5l-.94 2.06-2.06.94zm10 10l.94 2.06.94-2.06 2.06-.94-2.06-.94-.94-2.06-.94 2.06-2.06.94z\"/><path d=\"M17.41 7.96l-1.37-1.37c-.4-.4-.92-.59-1.43-.59-.52 0-1.04.2-1.43.59L10.3 9.45l-7.72 7.72c-.78.78-.78 2.05 0 2.83L4 21.41c.39.39.9.59 1.41.59.51 0 1.02-.2 1.41-.59l7.78-7.78 2.81-2.81c.8-.78.8-2.07 0-2.86zM5.41 20L4 18.59l7.72-7.72 1.47 1.35L5.41 20z\"/>\n",
              "  </svg>\n",
              "      </button>\n",
              "      \n",
              "  <style>\n",
              "    .colab-df-container {\n",
              "      display:flex;\n",
              "      flex-wrap:wrap;\n",
              "      gap: 12px;\n",
              "    }\n",
              "\n",
              "    .colab-df-convert {\n",
              "      background-color: #E8F0FE;\n",
              "      border: none;\n",
              "      border-radius: 50%;\n",
              "      cursor: pointer;\n",
              "      display: none;\n",
              "      fill: #1967D2;\n",
              "      height: 32px;\n",
              "      padding: 0 0 0 0;\n",
              "      width: 32px;\n",
              "    }\n",
              "\n",
              "    .colab-df-convert:hover {\n",
              "      background-color: #E2EBFA;\n",
              "      box-shadow: 0px 1px 2px rgba(60, 64, 67, 0.3), 0px 1px 3px 1px rgba(60, 64, 67, 0.15);\n",
              "      fill: #174EA6;\n",
              "    }\n",
              "\n",
              "    [theme=dark] .colab-df-convert {\n",
              "      background-color: #3B4455;\n",
              "      fill: #D2E3FC;\n",
              "    }\n",
              "\n",
              "    [theme=dark] .colab-df-convert:hover {\n",
              "      background-color: #434B5C;\n",
              "      box-shadow: 0px 1px 3px 1px rgba(0, 0, 0, 0.15);\n",
              "      filter: drop-shadow(0px 1px 2px rgba(0, 0, 0, 0.3));\n",
              "      fill: #FFFFFF;\n",
              "    }\n",
              "  </style>\n",
              "\n",
              "      <script>\n",
              "        const buttonEl =\n",
              "          document.querySelector('#df-7bb25ed4-54ee-47b2-a7eb-79af2691fe76 button.colab-df-convert');\n",
              "        buttonEl.style.display =\n",
              "          google.colab.kernel.accessAllowed ? 'block' : 'none';\n",
              "\n",
              "        async function convertToInteractive(key) {\n",
              "          const element = document.querySelector('#df-7bb25ed4-54ee-47b2-a7eb-79af2691fe76');\n",
              "          const dataTable =\n",
              "            await google.colab.kernel.invokeFunction('convertToInteractive',\n",
              "                                                     [key], {});\n",
              "          if (!dataTable) return;\n",
              "\n",
              "          const docLinkHtml = 'Like what you see? Visit the ' +\n",
              "            '<a target=\"_blank\" href=https://colab.research.google.com/notebooks/data_table.ipynb>data table notebook</a>'\n",
              "            + ' to learn more about interactive tables.';\n",
              "          element.innerHTML = '';\n",
              "          dataTable['output_type'] = 'display_data';\n",
              "          await google.colab.output.renderOutput(dataTable, element);\n",
              "          const docLink = document.createElement('div');\n",
              "          docLink.innerHTML = docLinkHtml;\n",
              "          element.appendChild(docLink);\n",
              "        }\n",
              "      </script>\n",
              "    </div>\n",
              "  </div>\n",
              "  "
            ]
          },
          "metadata": {},
          "execution_count": 5
        }
      ]
    },
    {
      "cell_type": "markdown",
      "metadata": {
        "id": "hOyh7I1QYVLm"
      },
      "source": [
        "# Hypothesis Testing or Significance Testing"
      ]
    },
    {
      "cell_type": "markdown",
      "metadata": {
        "id": "UPZfUa-zYVLo"
      },
      "source": [
        "Hypothesis testing is a set of formal procedures used by statisticians to either accept or reject statistical hypotheses. Statistical hypotheses are of two types:\n",
        "\n",
        "Null hypothesis, H0 - represents a hypothesis of chance basis.\n",
        "\n",
        "Alternative hypothesis, Ha - represents a hypothesis of observations which are influenced by some non-random cause."
      ]
    },
    {
      "cell_type": "markdown",
      "metadata": {
        "id": "MM-3dQroYVLp"
      },
      "source": [
        " (1) check if total  mean value of marks is not more  than 113.\n",
        "\n",
        "Null Hypothesis will be\n",
        "\n",
        "Ho : mu <= 113\n",
        "\n",
        "Alternate Hypothesis will be\n",
        "\n",
        "Ha : mu > 113"
      ]
    },
    {
      "cell_type": "code",
      "metadata": {
        "id": "k-T1t5eqYVLq",
        "outputId": "4c6020e8-346d-4a15-a320-272fd399828a",
        "colab": {
          "base_uri": "https://localhost:8080/"
        }
      },
      "source": [
        "Ho = \"mu <= 113\"\n",
        "# alt hyp\n",
        "Ha = \"mu > 113\"\n",
        "# alpha\n",
        "al = 0.05\n",
        "# mu - mean\n",
        "mu = 113\n",
        "# tail type\n",
        "tt = 1\n",
        "# data\n",
        "marks = df['total'].values\n",
        "print(\"Ho:\", Ho)\n",
        "print(\"Ha:\", Ha)\n",
        "print(\"al:\", al)\n",
        "print(\"mu:\", mu)\n",
        "print(marks)\n",
        "print(\"\")\n",
        "ts, pv = ttest_1samp(marks, mu)\n",
        "print(\"t-stat\",ts)\n",
        "print(\"p-vals\",pv)\n",
        "t2pv = pv\n",
        "t1pv = pv*2\n",
        "print(\"1t pv\",t1pv)\n",
        "print(\"2t pv\",t2pv)\n",
        "\n",
        "if tt == 1:\n",
        "    if t1pv < al:\n",
        "        print(\"Null Hypothesis: Rejected\")\n",
        "        print(\"Conclusion:\",Ha)\n",
        "    else:\n",
        "        print(\"Null Hypothesis: Not Rejected\")\n",
        "        print(\"Conclusion:\",Ho)\n",
        "else:\n",
        "    if t2pv < al/2:\n",
        "        print(\"Null Hypothesis: Rejected\")\n",
        "        print(\"Conclusion:\",Ha)\n",
        "    else:\n",
        "        print(\"Null Hypothesis: Not Rejected\")\n",
        "        print(\"Conclusion:\",Ho)"
      ],
      "execution_count": null,
      "outputs": [
        {
          "output_type": "stream",
          "name": "stdout",
          "text": [
            "Ho: mu <= 113\n",
            "Ha: mu > 113\n",
            "al: 0.05\n",
            "mu: 113\n",
            "[135 122  85 102 115 149 149 149 149 149]\n",
            "\n",
            "t-stat 2.351828598986897\n",
            "p-vals 0.0431755497622243\n",
            "1t pv 0.0863510995244486\n",
            "2t pv 0.0431755497622243\n",
            "Null Hypothesis: Not Rejected\n",
            "Conclusion: mu <= 113\n"
          ]
        }
      ]
    },
    {
      "cell_type": "code",
      "metadata": {
        "id": "JHqMiW35YVLr",
        "outputId": "32bc3c73-80f2-4b3b-ed03-0848179717ae",
        "colab": {
          "base_uri": "https://localhost:8080/"
        }
      },
      "source": [
        "# Problem: Check if the total mean age is  equal to 113\n",
        "\n",
        "#Ho:\tm = 113\n",
        "#Ha:\tm != 113\n",
        "#Tail: Two\n",
        "#Test: One Sample Mean without std\n",
        "\n",
        "# null hyp\n",
        "Ho = \"mu = 113\"\n",
        "# alt hyp\n",
        "Ha = \"mu != 113\"\n",
        "# alpha\n",
        "al = 0.05\n",
        "# mu - mean\n",
        "mu = 113\n",
        "# tail type\n",
        "tt = 2\n",
        "# data\n",
        "marks = df['total'].values\n",
        "# print\n",
        "print(\"Ho:\", Ho)\n",
        "print(\"Ha:\", Ha)\n",
        "print(\"al:\", al)\n",
        "print(\"mu:\", mu)\n",
        "print(marks)\n",
        "print(\"\")\n",
        "ts, pv = ttest_1samp(marks, mu)\n",
        "print(\"t-stat\",ts)\n",
        "print(\"p-vals\",pv)\n",
        "t2pv = pv\n",
        "t1pv = pv*2\n",
        "print(\"1t pv\",t1pv)\n",
        "print(\"2t pv\",t2pv)\n",
        "\n",
        "if tt == 1:\n",
        "    if t1pv < al:\n",
        "        print(\"Null Hypothesis: Rejected\")\n",
        "        print(\"Conclusion:\",Ha)\n",
        "    else:\n",
        "        print(\"Null Hypothesis: Not Rejected\")\n",
        "        print(\"Conclusion:\",Ho)\n",
        "else:\n",
        "    if t2pv < al/2:\n",
        "        print(\"Null Hypothesis: Rejected\")\n",
        "        print(\"Conclusion:\",Ha)\n",
        "    else:\n",
        "        print(\"Null Hypothesis: Not Rejected\")\n",
        "        print(\"Conclusion:\",Ho)\n"
      ],
      "execution_count": null,
      "outputs": [
        {
          "output_type": "stream",
          "name": "stdout",
          "text": [
            "Ho: mu = 113\n",
            "Ha: mu != 113\n",
            "al: 0.05\n",
            "mu: 113\n",
            "[135 122  85 102 115 149 149 149 149 149]\n",
            "\n",
            "t-stat 2.351828598986897\n",
            "p-vals 0.0431755497622243\n",
            "1t pv 0.0863510995244486\n",
            "2t pv 0.0431755497622243\n",
            "Null Hypothesis: Not Rejected\n",
            "Conclusion: mu = 113\n"
          ]
        }
      ]
    },
    {
      "cell_type": "markdown",
      "metadata": {
        "id": "mTM78uUAYVLt"
      },
      "source": [
        "AB testing is essentially an experiment where two or more variants of a page are shown to users at random, and statistical analysis is used to determine which variation performs better for a given conversion goal."
      ]
    },
    {
      "cell_type": "code",
      "metadata": {
        "id": "9_2EKgl9YVLt"
      },
      "source": [
        "subj1 = np.array([45,36,29,40,46,37,43,39,28,33])\n",
        "subj2 = np.array([40,20,30,35,29,43,40,39,28,31])"
      ],
      "execution_count": null,
      "outputs": []
    },
    {
      "cell_type": "code",
      "metadata": {
        "id": "1MltQUl9YVLu",
        "outputId": "91a4956b-bbc7-49e4-cb3e-84df38866992",
        "colab": {
          "base_uri": "https://localhost:8080/",
          "height": 341
        }
      },
      "source": [
        "sns.distplot(subj1)"
      ],
      "execution_count": null,
      "outputs": [
        {
          "output_type": "stream",
          "name": "stderr",
          "text": [
            "/usr/local/lib/python3.8/dist-packages/seaborn/distributions.py:2619: FutureWarning: `distplot` is a deprecated function and will be removed in a future version. Please adapt your code to use either `displot` (a figure-level function with similar flexibility) or `histplot` (an axes-level function for histograms).\n",
            "  warnings.warn(msg, FutureWarning)\n"
          ]
        },
        {
          "output_type": "execute_result",
          "data": {
            "text/plain": [
              "<matplotlib.axes._subplots.AxesSubplot at 0x7f298d91fac0>"
            ]
          },
          "metadata": {},
          "execution_count": 9
        },
        {
          "output_type": "display_data",
          "data": {
            "text/plain": [
              "<Figure size 432x288 with 1 Axes>"
            ],
            "image/png": "[encoded data removed]"
          },
          "metadata": {
            "needs_background": "light"
          }
        }
      ]
    },
    {
      "cell_type": "code",
      "metadata": {
        "id": "n8IzIYvRYVLv",
        "outputId": "45ba0c0f-ec47-4538-f25b-06b03fde768d",
        "colab": {
          "base_uri": "https://localhost:8080/",
          "height": 337
        }
      },
      "source": [
        "sns.distplot(subj2)"
      ],
      "execution_count": null,
      "outputs": [
        {
          "output_type": "stream",
          "name": "stderr",
          "text": [
            "/usr/local/lib/python3.8/dist-packages/seaborn/distributions.py:2619: FutureWarning: `distplot` is a deprecated function and will be removed in a future version. Please adapt your code to use either `displot` (a figure-level function with similar flexibility) or `histplot` (an axes-level function for histograms).\n",
            "  warnings.warn(msg, FutureWarning)\n"
          ]
        },
        {
          "output_type": "execute_result",
          "data": {
            "text/plain": [
              "<matplotlib.axes._subplots.AxesSubplot at 0x7f298d91f4c0>"
            ]
          },
          "metadata": {},
          "execution_count": 10
        },
        {
          "output_type": "display_data",
          "data": {
            "text/plain": [
              "<Figure size 432x288 with 1 Axes>"
            ],
            "image/png": "[encoded data removed]"
          },
          "metadata": {
            "needs_background": "light"
          }
        }
      ]
    },
    {
      "cell_type": "markdown",
      "metadata": {
        "id": "GuU2MpjAYVLx"
      },
      "source": [
        "The two hypotheses for this particular two sample t-test are as follows:\n",
        "\n",
        "H0: µ1 = µ2 (the two population means are equal)\n",
        "\n",
        "HA: µ1 ≠µ2 (the two population means are not equal)"
      ]
    },
    {
      "cell_type": "markdown",
      "metadata": {
        "id": "p9gjJ1UPYVLz"
      },
      "source": [
        "The t test statistic is 1.3659 and the corresponding two-sided p-value is 0.1887.\n",
        "Because the p-value of our test (0.1887) is greater than alpha = 0.05, we fail to reject the null hypothesis of the test.\n",
        "\n",
        "We do not have sufficient evidence to say that the mean marks of sub1 and subj2 between the two  is different.\n",
        "\n"
      ]
    },
    {
      "cell_type": "markdown",
      "metadata": {
        "id": "u0D3t7JnYVLz"
      },
      "source": [
        "# Type I error Type II error\n"
      ]
    },
    {
      "cell_type": "markdown",
      "metadata": {
        "id": "zCZpcWBuYVL0"
      },
      "source": [
        "Type I and Type II errors signifies the erroneous outcomes of statistical hypothesis tests. \n",
        "Type I error represents the incorrect rejection of a valid null hypothesis \n",
        "whereas Type II error represents the incorrect retention of an invalid null hypothesis."
      ]
    },
    {
      "cell_type": "code",
      "metadata": {
        "id": "OUr2oqL9YVL0",
        "outputId": "7ba0349b-6359-4863-c347-496925254c7f",
        "colab": {
          "base_uri": "https://localhost:8080/"
        }
      },
      "source": [
        "effect_size=abs((subj1.mean()-subj2.mean())/(subj1.std()-subj2.std()))\n",
        "sample_size=10\n",
        "alpha=0.05\n",
        "ratio=1.0\n",
        "\n",
        "statistical_power = tt_ind_solve_power(effect_size=effect_size, nobs1=sample_size, alpha=alpha, ratio=1.0, alternative='two-sided')\n",
        "print(statistical_power)"
      ],
      "execution_count": null,
      "outputs": [
        {
          "output_type": "stream",
          "name": "stdout",
          "text": [
            "1.0\n"
          ]
        }
      ]
    },
    {
      "cell_type": "code",
      "metadata": {
        "id": "HfWKYsfFYVL1",
        "outputId": "278d69fa-18e4-46c8-a280-de284ff141e9",
        "colab": {
          "base_uri": "https://localhost:8080/"
        }
      },
      "source": [
        "type_2_error=1-statistical_power\n",
        "type_2_error"
      ],
      "execution_count": null,
      "outputs": [
        {
          "output_type": "execute_result",
          "data": {
            "text/plain": [
              "0.0"
            ]
          },
          "metadata": {},
          "execution_count": 15
        }
      ]
    },
    {
      "cell_type": "markdown",
      "metadata": {
        "id": "iPuVTJMlYp61"
      },
      "source": [
        "**New Section**"
      ]
    },
    {
      "cell_type": "markdown",
      "metadata": {
        "id": "qwv3tg25dpFS"
      },
      "source": [
        "A/B testing has the ability to teach data scientists valuable lessons that both enhance understanding of audiences and underlying data sets, but also help focus on core use cases through methodical design of experiments.\n",
        "A/B testing has the ability to teach data scientists valuable lessons that both enhance understanding of audiences and underlying data sets, but also help focus on core use cases through methodical design of experiments.\n",
        "For instance, let’s say you own a company and want to increase the sales of your product. Here, either you can use random experiments, or you can apply scientific and statistical methods. A/B testing is one of the most prominent and widely used statistical tools."
      ]
    },
    {
      "cell_type": "code",
      "metadata": {
        "id": "34ROD9ZmUlCM"
      },
      "source": [
        " %matplotlib inline\n",
        " \n",
        "from pathlib import Path\n",
        "import random \n",
        "import pandas as pd\n",
        "import numpy as np\n",
        "import matplotlib.pylab as plt"
      ],
      "execution_count": null,
      "outputs": []
    },
    {
      "cell_type": "code",
      "metadata": {
        "id": "zrRrEK74cK_F"
      },
      "source": [
        "try:\n",
        "    import common\n",
        "    DATA = common.dataDirectory()\n",
        "except ImportError:\n",
        "    DATA = Path().resolve() / 'data'"
      ],
      "execution_count": null,
      "outputs": []
    },
    {
      "cell_type": "markdown",
      "metadata": {
        "id": "OmKLQNMNevqx"
      },
      "source": [
        "here we use web_page_data.csv dataset"
      ]
    },
    {
      "cell_type": "code",
      "metadata": {
        "id": "o9qHyKpncQcP"
      },
      "source": [
        "WEB_PAGE_DATA_CSV = DATA / '/content/gdrive/MyDrive/FDS/web_page_data.csv'"
      ],
      "execution_count": null,
      "outputs": []
    },
    {
      "cell_type": "code",
      "metadata": {
        "id": "FLtl0sroVOPz"
      },
      "source": [
        "session_times = pd.read_csv('/content/gdrive/MyDrive/FDS/web_page_data.csv')\n",
        "session_times.Time = 100 * session_times.Time"
      ],
      "execution_count": null,
      "outputs": []
    },
    {
      "cell_type": "code",
      "metadata": {
        "id": "OGRvMFu0VPIO",
        "colab": {
          "base_uri": "https://localhost:8080/",
          "height": 352
        },
        "outputId": "93ed8dc7-8717-45b5-cbaf-79f5a4d4651f"
      },
      "source": [
        " ax = session_times.boxplot(by='Page', column='Time',\n",
        "                           figsize=(4, 4))\n",
        "ax.set_xlabel('')\n",
        "ax.set_ylabel('Time (in seconds)')\n",
        "plt.suptitle('')\n",
        " \n",
        "plt.tight_layout()\n",
        "plt.show()"
      ],
      "execution_count": null,
      "outputs": [
        {
          "output_type": "stream",
          "name": "stderr",
          "text": [
            "/usr/local/lib/python3.8/dist-packages/matplotlib/cbook/__init__.py:1376: VisibleDeprecationWarning: Creating an ndarray from ragged nested sequences (which is a list-or-tuple of lists-or-tuples-or ndarrays with different lengths or shapes) is deprecated. If you meant to do this, you must specify 'dtype=object' when creating the ndarray.\n",
            "  X = np.atleast_1d(X.T if isinstance(X, np.ndarray) else np.asarray(X))\n"
          ]
        },
        {
          "output_type": "display_data",
          "data": {
            "text/plain": [
              "<Figure size 288x288 with 1 Axes>"
            ],
            "image/png": "[encoded data removed]"
          },
          "metadata": {
            "needs_background": "light"
          }
        }
      ]
    },
    {
      "cell_type": "code",
      "metadata": {
        "id": "3rFdQ5wWVX6n",
        "colab": {
          "base_uri": "https://localhost:8080/"
        },
        "outputId": "501dc5bc-eff1-4a52-8947-2a265a2fa3f0"
      },
      "source": [
        " mean_a = session_times[session_times.Page == 'Page A'].Time.mean()\n",
        "mean_b = session_times[session_times.Page == 'Page B'].Time.mean()\n",
        "print(mean_b - mean_a)"
      ],
      "execution_count": null,
      "outputs": [
        {
          "output_type": "stream",
          "name": "stdout",
          "text": [
            "35.66666666666667\n"
          ]
        }
      ]
    },
    {
      "cell_type": "code",
      "metadata": {
        "id": "e9mWzAr1Vhd9",
        "colab": {
          "base_uri": "https://localhost:8080/"
        },
        "outputId": "ab18cb46-a3f5-4200-94cf-a4d92d06e903"
      },
      "source": [
        " # Permutation test example with stickiness\n",
        "def perm_fun(x, nA, nB):\n",
        "    n = nA + nB\n",
        "    idx_B = set(random.sample(range(n), nB))\n",
        "    idx_A = set(range(n)) - idx_B\n",
        "    return x.loc[idx_B].mean() - x.loc[idx_A].mean()\n",
        "    \n",
        "nA = session_times[session_times.Page == 'Page A'].shape[0]\n",
        "nB = session_times[session_times.Page == 'Page B'].shape[0]\n",
        "print(perm_fun(session_times.Time, nA, nB))"
      ],
      "execution_count": null,
      "outputs": [
        {
          "output_type": "stream",
          "name": "stdout",
          "text": [
            "-16.7904761904762\n"
          ]
        }
      ]
    },
    {
      "cell_type": "code",
      "metadata": {
        "id": "bP8zm2nGVoVI",
        "colab": {
          "base_uri": "https://localhost:8080/",
          "height": 369
        },
        "outputId": "f13d6ecd-266f-42c9-801e-87392729349c"
      },
      "source": [
        " random.seed(1)\n",
        "perm_diffs = [perm_fun(session_times.Time, nA, nB) for _ in range(1000)]\n",
        " \n",
        "fig, ax = plt.subplots(figsize=(5, 5))\n",
        "ax.hist(perm_diffs, bins=11, rwidth=0.9)\n",
        "ax.axvline(x = mean_b - mean_a, color='black', lw=2)\n",
        "ax.text(50, 190, 'Observed\\ndifference', bbox={'facecolor':'white'})\n",
        "ax.set_xlabel('Session time differences (in seconds)')\n",
        "ax.set_ylabel('Frequency')\n",
        " \n",
        "plt.tight_layout()\n",
        "plt.show()"
      ],
      "execution_count": null,
      "outputs": [
        {
          "output_type": "display_data",
          "data": {
            "text/plain": [
              "<Figure size 360x360 with 1 Axes>"
            ],
            "image/png": "[encoded data removed]"
          },
          "metadata": {
            "needs_background": "light"
          }
        }
      ]
    },
    {
      "cell_type": "markdown",
      "metadata": {
        "id": "3XDEH0iViWTM"
      },
      "source": [
        "2.For this project, you will be working to understand the results of an A/B test run by an e-commerce website. Your goal is to work through this notebook to help the company understand if they should implement the new page, keep the old page, or perhaps run the experiment longer to make their decision.\n",
        "\n",
        "\n"
      ]
    },
    {
      "cell_type": "code",
      "metadata": {
        "id": "AQmhQOKBgc_f"
      },
      "source": [
        "df = pd.read_csv('/content/ab_data.csv')"
      ],
      "execution_count": null,
      "outputs": []
    },
    {
      "cell_type": "markdown",
      "metadata": {
        "id": "ImWy4lY0ntvD"
      },
      "source": [
        "For now, consider you need to make the decision just based on all the data provided. If you want to assume that the old page is better unless the new page proves to be definitely better at a Type I error rate of 5%, what should your null and alternative hypotheses be? You can state your hypothesis in terms of words or in terms of $p_{old}$ and $p_{new}$, which are the converted rates for the old and new pages.\n",
        "\n",
        "Null Hypothesis: The probability of old page better than new page is greater or equal to probability of new page.\n",
        "\n",
        "Alternative Hypothesis: The probability of new page being better than new page is less than that of a new page.\n"
      ]
    },
    {
      "cell_type": "code",
      "metadata": {
        "colab": {
          "base_uri": "https://localhost:8080/"
        },
        "id": "Q_rVHk6XicMB",
        "outputId": "4b2b4c56-ae89-41e2-bc4c-927bebf13cf5"
      },
      "source": [
        "df.info()\n"
      ],
      "execution_count": null,
      "outputs": [
        {
          "output_type": "stream",
          "text": [
            "<class 'pandas.core.frame.DataFrame'>\n",
            "RangeIndex: 233014 entries, 0 to 233013\n",
            "Data columns (total 5 columns):\n",
            " #   Column        Non-Null Count   Dtype  \n",
            "---  ------        --------------   -----  \n",
            " 0   user_id       233014 non-null  int64  \n",
            " 1   timestamp     233014 non-null  object \n",
            " 2   group         233014 non-null  object \n",
            " 3   landing_page  233013 non-null  object \n",
            " 4   converted     233013 non-null  float64\n",
            "dtypes: float64(1), int64(1), object(3)\n",
            "memory usage: 8.9+ MB\n"
          ],
          "name": "stdout"
        }
      ]
    },
    {
      "cell_type": "code",
      "metadata": {
        "id": "N6nQYOatmUxk"
      },
      "source": [
        "df2 = df.drop(df[((df.landing_page == 'new_page') & (df.group != 'treatment')) | ((df.landing_page != 'new_page') & (df.group == 'treatment'))].index)"
      ],
      "execution_count": null,
      "outputs": []
    },
    {
      "cell_type": "code",
      "metadata": {
        "colab": {
          "base_uri": "https://localhost:8080/"
        },
        "id": "K-luElTSi6hx",
        "outputId": "452601f7-ac1b-42b5-a59e-647405aa5eea"
      },
      "source": [
        "#check for info\n",
        "df2.info()"
      ],
      "execution_count": null,
      "outputs": [
        {
          "output_type": "stream",
          "text": [
            "<class 'pandas.core.frame.DataFrame'>\n",
            "Int64Index: 229934 entries, 0 to 233013\n",
            "Data columns (total 5 columns):\n",
            " #   Column        Non-Null Count   Dtype  \n",
            "---  ------        --------------   -----  \n",
            " 0   user_id       229934 non-null  int64  \n",
            " 1   timestamp     229934 non-null  object \n",
            " 2   group         229934 non-null  object \n",
            " 3   landing_page  229933 non-null  object \n",
            " 4   converted     229933 non-null  float64\n",
            "dtypes: float64(1), int64(1), object(3)\n",
            "memory usage: 10.5+ MB\n"
          ],
          "name": "stdout"
        }
      ]
    },
    {
      "cell_type": "code",
      "metadata": {
        "colab": {
          "base_uri": "https://localhost:8080/"
        },
        "id": "LbfmFj53jL_3",
        "outputId": "c0bf0b1b-3120-400d-dfc5-21566dc07c9f"
      },
      "source": [
        "# convert rate is how many users converted (i.e. converted = 1)\n",
        "p_new = df2.converted.mean()\n",
        "p_new"
      ],
      "execution_count": null,
      "outputs": [
        {
          "output_type": "execute_result",
          "data": {
            "text/plain": [
              "0.11962615196600748"
            ]
          },
          "metadata": {
            "tags": []
          },
          "execution_count": 65
        }
      ]
    },
    {
      "cell_type": "code",
      "metadata": {
        "colab": {
          "base_uri": "https://localhost:8080/"
        },
        "id": "NUrza_rqjfoI",
        "outputId": "89e5430b-0098-45c7-98c8-7c24bb2227e5"
      },
      "source": [
        "p_old = df2.converted.mean() # the same!!!\n",
        "p_old"
      ],
      "execution_count": null,
      "outputs": [
        {
          "output_type": "execute_result",
          "data": {
            "text/plain": [
              "0.11962615196600748"
            ]
          },
          "metadata": {
            "tags": []
          },
          "execution_count": 66
        }
      ]
    },
    {
      "cell_type": "code",
      "metadata": {
        "colab": {
          "base_uri": "https://localhost:8080/"
        },
        "id": "A82AZLFdjmRI",
        "outputId": "099714ee-3a47-4f5e-b6c9-ecce9cedbe50"
      },
      "source": [
        "# number of users who got the new page (i.e. group = treatment)\n",
        "n_new = df2[df2.group == 'treatment'].count()[0]\n",
        "n_new"
      ],
      "execution_count": null,
      "outputs": [
        {
          "output_type": "execute_result",
          "data": {
            "text/plain": [
              "115006"
            ]
          },
          "metadata": {
            "tags": []
          },
          "execution_count": 67
        }
      ]
    },
    {
      "cell_type": "code",
      "metadata": {
        "colab": {
          "base_uri": "https://localhost:8080/"
        },
        "id": "Ci2d0kKTjp2j",
        "outputId": "b5ce1c91-dc6d-41d1-9a04-3ee72c156038"
      },
      "source": [
        "# number of users who reamined with old page (i.e. group = control)\n",
        "n_old = df2[df2.group == 'control'].count()[0]\n",
        "n_old"
      ],
      "execution_count": null,
      "outputs": [
        {
          "output_type": "execute_result",
          "data": {
            "text/plain": [
              "114928"
            ]
          },
          "metadata": {
            "tags": []
          },
          "execution_count": 68
        }
      ]
    },
    {
      "cell_type": "code",
      "metadata": {
        "colab": {
          "base_uri": "https://localhost:8080/"
        },
        "id": "KkrprRqGjt2W",
        "outputId": "8f664d1e-c7cb-4a03-b375-f6c68e141e49"
      },
      "source": [
        "# simulating n_new transaction that have probabiliy of receiving new page, using binomial gives the outout as the number of 1's\n",
        "new_converted_simulation = np.random.binomial(n_new, p_new, 10000)/n_new\n",
        "new_converted_simulation.mean()"
      ],
      "execution_count": null,
      "outputs": [
        {
          "output_type": "execute_result",
          "data": {
            "text/plain": [
              "0.11962762812375007"
            ]
          },
          "metadata": {
            "tags": []
          },
          "execution_count": 50
        }
      ]
    },
    {
      "cell_type": "code",
      "metadata": {
        "colab": {
          "base_uri": "https://localhost:8080/"
        },
        "id": "_EpFqW31jzJR",
        "outputId": "a1f2e17b-b60c-450c-978c-c785a62fbba9"
      },
      "source": [
        "# simulating n_new transaction that have probabiliy of having old page, using binomial gives the outout as the number of 1's\n",
        "old_converted_simulation = np.random.binomial(n_old, p_old, 10000)/n_old\n",
        "old_converted_simulation.mean()"
      ],
      "execution_count": null,
      "outputs": [
        {
          "output_type": "execute_result",
          "data": {
            "text/plain": [
              "0.11962186238340528"
            ]
          },
          "metadata": {
            "tags": []
          },
          "execution_count": 70
        }
      ]
    },
    {
      "cell_type": "code",
      "metadata": {
        "colab": {
          "base_uri": "https://localhost:8080/"
        },
        "id": "g27Egqqhj_3J",
        "outputId": "d78eda58-4c91-4283-a896-a22075119134"
      },
      "source": [
        "# probabilty of new and old page based upon simulated values in e. and f.\n",
        "new_converted_simulation.mean() - old_converted_simulation.mean()\n"
      ],
      "execution_count": null,
      "outputs": [
        {
          "output_type": "execute_result",
          "data": {
            "text/plain": [
              "-1.1607745663833047e-05"
            ]
          },
          "metadata": {
            "tags": []
          },
          "execution_count": 54
        }
      ]
    },
    {
      "cell_type": "code",
      "metadata": {
        "id": "fjbv7p2_kGUy"
      },
      "source": [
        "# alternatively\n",
        "p_diffs_alt = new_converted_simulation - old_converted_simulation"
      ],
      "execution_count": null,
      "outputs": []
    },
    {
      "cell_type": "code",
      "metadata": {
        "colab": {
          "base_uri": "https://localhost:8080/",
          "height": 265
        },
        "id": "-g_wP5u3lNcd",
        "outputId": "07b03f59-739c-482e-e810-b5d84bd32856"
      },
      "source": [
        "# alternatively\n",
        "# histogram\n",
        "plt.hist(p_diffs_alt)\n",
        "plt.grid()\n",
        "plt.axvline(p_diffs_alt.mean(), color='r', label='mean')\n",
        "plt.legend();"
      ],
      "execution_count": null,
      "outputs": [
        {
          "output_type": "display_data",
          "data": {
            "image/png": "[encoded data removed]",
            "text/plain": [
              "<Figure size 432x288 with 1 Axes>"
            ]
          },
          "metadata": {
            "tags": [],
            "needs_background": "light"
          }
        }
      ]
    }
  ]
}